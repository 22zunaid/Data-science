{
  "nbformat": 4,
  "nbformat_minor": 0,
  "metadata": {
    "colab": {
      "name": "Untitled29.ipynb",
      "provenance": [],
      "authorship_tag": "ABX9TyN2maiCocGz9CKWwsGAPkUE",
      "include_colab_link": true
    },
    "kernelspec": {
      "name": "python3",
      "display_name": "Python 3"
    }
  },
  "cells": [
    {
      "cell_type": "markdown",
      "metadata": {
        "id": "view-in-github",
        "colab_type": "text"
      },
      "source": [
        "<a href=\"https://colab.research.google.com/github/22zunaid/Data-science/blob/master/sp1.ipynb\" target=\"_parent\"><img src=\"https://colab.research.google.com/assets/colab-badge.svg\" alt=\"Open In Colab\"/></a>"
      ]
    },
    {
      "cell_type": "code",
      "metadata": {
        "colab": {
          "base_uri": "https://localhost:8080/"
        },
        "id": "iBraaRLaMprX",
        "outputId": "c1ca7f9b-13d1-4143-e9af-68db9fa42282"
      },
      "source": [
        "!pip install chart_studio"
      ],
      "execution_count": 99,
      "outputs": [
        {
          "output_type": "stream",
          "text": [
            "Requirement already satisfied: chart_studio in /usr/local/lib/python3.6/dist-packages (1.1.0)\n",
            "Requirement already satisfied: plotly in /usr/local/lib/python3.6/dist-packages (from chart_studio) (4.4.1)\n",
            "Requirement already satisfied: retrying>=1.3.3 in /usr/local/lib/python3.6/dist-packages (from chart_studio) (1.3.3)\n",
            "Requirement already satisfied: requests in /usr/local/lib/python3.6/dist-packages (from chart_studio) (2.23.0)\n",
            "Requirement already satisfied: six in /usr/local/lib/python3.6/dist-packages (from chart_studio) (1.15.0)\n",
            "Requirement already satisfied: chardet<4,>=3.0.2 in /usr/local/lib/python3.6/dist-packages (from requests->chart_studio) (3.0.4)\n",
            "Requirement already satisfied: idna<3,>=2.5 in /usr/local/lib/python3.6/dist-packages (from requests->chart_studio) (2.10)\n",
            "Requirement already satisfied: certifi>=2017.4.17 in /usr/local/lib/python3.6/dist-packages (from requests->chart_studio) (2020.12.5)\n",
            "Requirement already satisfied: urllib3!=1.25.0,!=1.25.1,<1.26,>=1.21.1 in /usr/local/lib/python3.6/dist-packages (from requests->chart_studio) (1.24.3)\n"
          ],
          "name": "stdout"
        }
      ]
    },
    {
      "cell_type": "code",
      "metadata": {
        "id": "HyRQLUQJbWbF"
      },
      "source": [
        "import numpy as np\r\n",
        "import pandas as pd\r\n",
        "import matplotlib.pyplot as plt\r\n",
        "%matplotlib inline\r\n",
        "\r\n",
        "import chart_studio.plotly as py\r\n",
        "import plotly.graph_objs as go\r\n",
        "from plotly.offline import plot\r\n"
      ],
      "execution_count": 100,
      "outputs": []
    },
    {
      "cell_type": "code",
      "metadata": {
        "colab": {
          "base_uri": "https://localhost:8080/",
          "height": 196
        },
        "id": "v9T0_lLucaLx",
        "outputId": "5ccdf2fd-1b9b-43c4-9feb-1d7dd270737b"
      },
      "source": [
        "TTM=pd.read_csv(\"TTM.csv\")\r\n",
        "TTM.head()"
      ],
      "execution_count": 101,
      "outputs": [
        {
          "output_type": "execute_result",
          "data": {
            "text/html": [
              "<div>\n",
              "<style scoped>\n",
              "    .dataframe tbody tr th:only-of-type {\n",
              "        vertical-align: middle;\n",
              "    }\n",
              "\n",
              "    .dataframe tbody tr th {\n",
              "        vertical-align: top;\n",
              "    }\n",
              "\n",
              "    .dataframe thead th {\n",
              "        text-align: right;\n",
              "    }\n",
              "</style>\n",
              "<table border=\"1\" class=\"dataframe\">\n",
              "  <thead>\n",
              "    <tr style=\"text-align: right;\">\n",
              "      <th></th>\n",
              "      <th>Date</th>\n",
              "      <th>Open</th>\n",
              "      <th>High</th>\n",
              "      <th>Low</th>\n",
              "      <th>Close</th>\n",
              "      <th>Adj Close</th>\n",
              "      <th>Volume</th>\n",
              "    </tr>\n",
              "  </thead>\n",
              "  <tbody>\n",
              "    <tr>\n",
              "      <th>0</th>\n",
              "      <td>2020-02-03</td>\n",
              "      <td>11.54</td>\n",
              "      <td>11.69</td>\n",
              "      <td>11.40</td>\n",
              "      <td>11.68</td>\n",
              "      <td>11.68</td>\n",
              "      <td>2503100</td>\n",
              "    </tr>\n",
              "    <tr>\n",
              "      <th>1</th>\n",
              "      <td>2020-02-04</td>\n",
              "      <td>11.78</td>\n",
              "      <td>11.88</td>\n",
              "      <td>11.69</td>\n",
              "      <td>11.73</td>\n",
              "      <td>11.73</td>\n",
              "      <td>1757500</td>\n",
              "    </tr>\n",
              "    <tr>\n",
              "      <th>2</th>\n",
              "      <td>2020-02-05</td>\n",
              "      <td>12.82</td>\n",
              "      <td>12.90</td>\n",
              "      <td>12.60</td>\n",
              "      <td>12.64</td>\n",
              "      <td>12.64</td>\n",
              "      <td>2380700</td>\n",
              "    </tr>\n",
              "    <tr>\n",
              "      <th>3</th>\n",
              "      <td>2020-02-06</td>\n",
              "      <td>12.73</td>\n",
              "      <td>12.73</td>\n",
              "      <td>12.32</td>\n",
              "      <td>12.36</td>\n",
              "      <td>12.36</td>\n",
              "      <td>2399900</td>\n",
              "    </tr>\n",
              "    <tr>\n",
              "      <th>4</th>\n",
              "      <td>2020-02-07</td>\n",
              "      <td>12.08</td>\n",
              "      <td>12.08</td>\n",
              "      <td>11.85</td>\n",
              "      <td>11.91</td>\n",
              "      <td>11.91</td>\n",
              "      <td>1851000</td>\n",
              "    </tr>\n",
              "  </tbody>\n",
              "</table>\n",
              "</div>"
            ],
            "text/plain": [
              "         Date   Open   High    Low  Close  Adj Close   Volume\n",
              "0  2020-02-03  11.54  11.69  11.40  11.68      11.68  2503100\n",
              "1  2020-02-04  11.78  11.88  11.69  11.73      11.73  1757500\n",
              "2  2020-02-05  12.82  12.90  12.60  12.64      12.64  2380700\n",
              "3  2020-02-06  12.73  12.73  12.32  12.36      12.36  2399900\n",
              "4  2020-02-07  12.08  12.08  11.85  11.91      11.91  1851000"
            ]
          },
          "metadata": {
            "tags": []
          },
          "execution_count": 101
        }
      ]
    },
    {
      "cell_type": "code",
      "metadata": {
        "colab": {
          "base_uri": "https://localhost:8080/"
        },
        "id": "Aocg23VmezXM",
        "outputId": "ddfe5673-2879-482d-f791-1b24a7243860"
      },
      "source": [
        "TTM.info()"
      ],
      "execution_count": 102,
      "outputs": [
        {
          "output_type": "stream",
          "text": [
            "<class 'pandas.core.frame.DataFrame'>\n",
            "RangeIndex: 254 entries, 0 to 253\n",
            "Data columns (total 7 columns):\n",
            " #   Column     Non-Null Count  Dtype  \n",
            "---  ------     --------------  -----  \n",
            " 0   Date       254 non-null    object \n",
            " 1   Open       254 non-null    float64\n",
            " 2   High       254 non-null    float64\n",
            " 3   Low        254 non-null    float64\n",
            " 4   Close      254 non-null    float64\n",
            " 5   Adj Close  254 non-null    float64\n",
            " 6   Volume     254 non-null    int64  \n",
            "dtypes: float64(5), int64(1), object(1)\n",
            "memory usage: 14.0+ KB\n"
          ],
          "name": "stdout"
        }
      ]
    },
    {
      "cell_type": "code",
      "metadata": {
        "id": "ExAm9YVNeziX"
      },
      "source": [
        "TTM['Date'] = pd.to_datetime(TTM['Date'])"
      ],
      "execution_count": 103,
      "outputs": []
    },
    {
      "cell_type": "code",
      "metadata": {
        "colab": {
          "base_uri": "https://localhost:8080/"
        },
        "id": "HZjj2H9mh9hU",
        "outputId": "972aacf7-cded-4d2b-d1e4-64900387bb76"
      },
      "source": [
        "print(f'Dataframe contains stock prices between{TTM.Date.min()}{TTM.Date.max()}')\r\n",
        "print(f'Total days ={(TTM.Date.max() - TTM.Date.min()).days} days')"
      ],
      "execution_count": 104,
      "outputs": [
        {
          "output_type": "stream",
          "text": [
            "Dataframe contains stock prices between2020-02-03 00:00:002021-02-03 00:00:00\n",
            "Total days =366 days\n"
          ],
          "name": "stdout"
        }
      ]
    },
    {
      "cell_type": "code",
      "metadata": {
        "colab": {
          "base_uri": "https://localhost:8080/",
          "height": 286
        },
        "id": "En0PKeyYgGsa",
        "outputId": "492dd01e-57a2-4d59-f81d-cfd2cffba03b"
      },
      "source": [
        "TTM.describe()"
      ],
      "execution_count": 105,
      "outputs": [
        {
          "output_type": "execute_result",
          "data": {
            "text/html": [
              "<div>\n",
              "<style scoped>\n",
              "    .dataframe tbody tr th:only-of-type {\n",
              "        vertical-align: middle;\n",
              "    }\n",
              "\n",
              "    .dataframe tbody tr th {\n",
              "        vertical-align: top;\n",
              "    }\n",
              "\n",
              "    .dataframe thead th {\n",
              "        text-align: right;\n",
              "    }\n",
              "</style>\n",
              "<table border=\"1\" class=\"dataframe\">\n",
              "  <thead>\n",
              "    <tr style=\"text-align: right;\">\n",
              "      <th></th>\n",
              "      <th>Open</th>\n",
              "      <th>High</th>\n",
              "      <th>Low</th>\n",
              "      <th>Close</th>\n",
              "      <th>Adj Close</th>\n",
              "      <th>Volume</th>\n",
              "    </tr>\n",
              "  </thead>\n",
              "  <tbody>\n",
              "    <tr>\n",
              "      <th>count</th>\n",
              "      <td>254.000000</td>\n",
              "      <td>254.000000</td>\n",
              "      <td>254.000000</td>\n",
              "      <td>254.000000</td>\n",
              "      <td>254.000000</td>\n",
              "      <td>2.540000e+02</td>\n",
              "    </tr>\n",
              "    <tr>\n",
              "      <th>mean</th>\n",
              "      <td>9.069213</td>\n",
              "      <td>9.215827</td>\n",
              "      <td>8.916654</td>\n",
              "      <td>9.071654</td>\n",
              "      <td>9.071654</td>\n",
              "      <td>2.271138e+06</td>\n",
              "    </tr>\n",
              "    <tr>\n",
              "      <th>std</th>\n",
              "      <td>3.507984</td>\n",
              "      <td>3.558711</td>\n",
              "      <td>3.506465</td>\n",
              "      <td>3.545592</td>\n",
              "      <td>3.545592</td>\n",
              "      <td>1.150118e+06</td>\n",
              "    </tr>\n",
              "    <tr>\n",
              "      <th>min</th>\n",
              "      <td>4.200000</td>\n",
              "      <td>4.240000</td>\n",
              "      <td>3.920000</td>\n",
              "      <td>4.080000</td>\n",
              "      <td>4.080000</td>\n",
              "      <td>3.034170e+05</td>\n",
              "    </tr>\n",
              "    <tr>\n",
              "      <th>25%</th>\n",
              "      <td>6.610000</td>\n",
              "      <td>6.757500</td>\n",
              "      <td>6.470000</td>\n",
              "      <td>6.602500</td>\n",
              "      <td>6.602500</td>\n",
              "      <td>1.452750e+06</td>\n",
              "    </tr>\n",
              "    <tr>\n",
              "      <th>50%</th>\n",
              "      <td>8.835000</td>\n",
              "      <td>8.915000</td>\n",
              "      <td>8.610000</td>\n",
              "      <td>8.755000</td>\n",
              "      <td>8.755000</td>\n",
              "      <td>2.020900e+06</td>\n",
              "    </tr>\n",
              "    <tr>\n",
              "      <th>75%</th>\n",
              "      <td>11.082500</td>\n",
              "      <td>11.212500</td>\n",
              "      <td>11.007500</td>\n",
              "      <td>11.057500</td>\n",
              "      <td>11.057500</td>\n",
              "      <td>2.880550e+06</td>\n",
              "    </tr>\n",
              "    <tr>\n",
              "      <th>max</th>\n",
              "      <td>21.690001</td>\n",
              "      <td>22.600000</td>\n",
              "      <td>22.190001</td>\n",
              "      <td>22.580000</td>\n",
              "      <td>22.580000</td>\n",
              "      <td>7.642200e+06</td>\n",
              "    </tr>\n",
              "  </tbody>\n",
              "</table>\n",
              "</div>"
            ],
            "text/plain": [
              "             Open        High         Low       Close   Adj Close        Volume\n",
              "count  254.000000  254.000000  254.000000  254.000000  254.000000  2.540000e+02\n",
              "mean     9.069213    9.215827    8.916654    9.071654    9.071654  2.271138e+06\n",
              "std      3.507984    3.558711    3.506465    3.545592    3.545592  1.150118e+06\n",
              "min      4.200000    4.240000    3.920000    4.080000    4.080000  3.034170e+05\n",
              "25%      6.610000    6.757500    6.470000    6.602500    6.602500  1.452750e+06\n",
              "50%      8.835000    8.915000    8.610000    8.755000    8.755000  2.020900e+06\n",
              "75%     11.082500   11.212500   11.007500   11.057500   11.057500  2.880550e+06\n",
              "max     21.690001   22.600000   22.190001   22.580000   22.580000  7.642200e+06"
            ]
          },
          "metadata": {
            "tags": []
          },
          "execution_count": 105
        }
      ]
    },
    {
      "cell_type": "code",
      "metadata": {
        "colab": {
          "base_uri": "https://localhost:8080/",
          "height": 281
        },
        "id": "-IPVX8rdgHGR",
        "outputId": "9235b893-84d6-4436-f0e3-6fe26103eb82"
      },
      "source": [
        "TTM[['Open','High','Low','Close','Adj Close']].plot(kind='box')"
      ],
      "execution_count": 106,
      "outputs": [
        {
          "output_type": "execute_result",
          "data": {
            "text/plain": [
              "<matplotlib.axes._subplots.AxesSubplot at 0x7f2a454221d0>"
            ]
          },
          "metadata": {
            "tags": []
          },
          "execution_count": 106
        },
        {
          "output_type": "display_data",
          "data": {
            "image/png": "[encoded data removed]",
            "text/plain": [
              "<Figure size 432x288 with 1 Axes>"
            ]
          },
          "metadata": {
            "tags": [],
            "needs_background": "light"
          }
        }
      ]
    },
    {
      "cell_type": "code",
      "metadata": {
        "id": "KRqC-y85nzDn"
      },
      "source": [
        "TTM[\"Date\"]=pd.to_datetime(TTM.Date,format=\"%Y-%m-%d\")\r\n",
        "TTM.index=TTM['Date']"
      ],
      "execution_count": 107,
      "outputs": []
    },
    {
      "cell_type": "code",
      "metadata": {
        "id": "YFadY0F4tL2a"
      },
      "source": [
        "#building regression model\r\n",
        "from sklearn.model_selection import train_test_split\r\n",
        "\r\n",
        "#for preprocessing \r\n",
        "from sklearn.preprocessing import MinMaxScaler\r\n",
        "from sklearn.preprocessing import StandardScaler\r\n",
        "\r\n",
        "#for model evaluation\r\n",
        "from sklearn.metrics import mean_squared_error as mse\r\n",
        "from sklearn.metrics import r2_score\r\n"
      ],
      "execution_count": 108,
      "outputs": []
    },
    {
      "cell_type": "code",
      "metadata": {
        "id": "5AexwBMJvTtJ"
      },
      "source": [
        "#split the data into training and test sets\r\n",
        "X = np.array (TTM.index).reshape(-1,1)\r\n",
        "Y= TTM['Close']\r\n",
        "X_train, X_test, Y_train, Y_test = train_test_split(X,Y,test_size=0.3,random_state=101)\r\n"
      ],
      "execution_count": 109,
      "outputs": []
    },
    {
      "cell_type": "code",
      "metadata": {
        "id": "xwtgTnu8wR1R"
      },
      "source": [
        "#features scailing\r\n",
        "scaler = StandardScaler().fit(X_train)"
      ],
      "execution_count": 110,
      "outputs": []
    },
    {
      "cell_type": "code",
      "metadata": {
        "id": "Hu2HmqzWweya"
      },
      "source": [
        "from sklearn.linear_model import LinearRegression"
      ],
      "execution_count": 111,
      "outputs": []
    },
    {
      "cell_type": "code",
      "metadata": {
        "colab": {
          "base_uri": "https://localhost:8080/"
        },
        "id": "8CGDwRDTwncU",
        "outputId": "c072174a-3bef-4ab7-e309-62471f29af3b"
      },
      "source": [
        "#creating a linear model\r\n",
        "lm = LinearRegression()\r\n",
        "lm.fit(X_train,Y_train)"
      ],
      "execution_count": 112,
      "outputs": [
        {
          "output_type": "execute_result",
          "data": {
            "text/plain": [
              "LinearRegression(copy_X=True, fit_intercept=True, n_jobs=None, normalize=False)"
            ]
          },
          "metadata": {
            "tags": []
          },
          "execution_count": 112
        }
      ]
    },
    {
      "cell_type": "code",
      "metadata": {
        "colab": {
          "base_uri": "https://localhost:8080/",
          "height": 541
        },
        "id": "eRdpA06nwR9q",
        "outputId": "4643447b-56f8-42f5-b565-cf74b1732e90"
      },
      "source": [
        "\r\n",
        "#plot the actual and predicted  values for atrain  dataset\r\n",
        "predictions = lm\r\n",
        "\r\n",
        "valid = TTM[X.shape[0]:]\r\n",
        "valid['Prediction'] = predictions\r\n",
        "plt.figure(figsize=(16, 8))\r\n",
        "plt.title('Model')\r\n",
        "plt.xlabel('Days')\r\n",
        "plt.ylabel('Close price in Rupee (₹)')\r\n",
        "plt.plot(TTM['Close'],linestyle='dotted',color='#ff0000')\r\n",
        "plt.plot(valid[['Close' , 'Prediction']])\r\n",
        "plt.legend(['Orig', 'Val', 'Pred'])\r\n",
        "plt.plot(valid[predictions()])\r\n",
        "plt.show()\r\n"
      ],
      "execution_count": 127,
      "outputs": [
        {
          "output_type": "error",
          "ename": "TypeError",
          "evalue": "ignored",
          "traceback": [
            "\u001b[0;31m---------------------------------------------------------------------------\u001b[0m",
            "\u001b[0;31mTypeError\u001b[0m                                 Traceback (most recent call last)",
            "\u001b[0;32m<ipython-input-127-ac3112db984d>\u001b[0m in \u001b[0;36m<module>\u001b[0;34m()\u001b[0m\n\u001b[1;32m     12\u001b[0m \u001b[0mplt\u001b[0m\u001b[0;34m.\u001b[0m\u001b[0mplot\u001b[0m\u001b[0;34m(\u001b[0m\u001b[0mvalid\u001b[0m\u001b[0;34m[\u001b[0m\u001b[0;34m[\u001b[0m\u001b[0;34m'Close'\u001b[0m \u001b[0;34m,\u001b[0m \u001b[0;34m'Prediction'\u001b[0m\u001b[0;34m]\u001b[0m\u001b[0;34m]\u001b[0m\u001b[0;34m)\u001b[0m\u001b[0;34m\u001b[0m\u001b[0;34m\u001b[0m\u001b[0m\n\u001b[1;32m     13\u001b[0m \u001b[0mplt\u001b[0m\u001b[0;34m.\u001b[0m\u001b[0mlegend\u001b[0m\u001b[0;34m(\u001b[0m\u001b[0;34m[\u001b[0m\u001b[0;34m'Orig'\u001b[0m\u001b[0;34m,\u001b[0m \u001b[0;34m'Val'\u001b[0m\u001b[0;34m,\u001b[0m \u001b[0;34m'Pred'\u001b[0m\u001b[0;34m]\u001b[0m\u001b[0;34m)\u001b[0m\u001b[0;34m\u001b[0m\u001b[0;34m\u001b[0m\u001b[0m\n\u001b[0;32m---> 14\u001b[0;31m \u001b[0mplt\u001b[0m\u001b[0;34m.\u001b[0m\u001b[0mplot\u001b[0m\u001b[0;34m(\u001b[0m\u001b[0mvalid\u001b[0m\u001b[0;34m[\u001b[0m\u001b[0mpredictions\u001b[0m\u001b[0;34m(\u001b[0m\u001b[0;34m)\u001b[0m\u001b[0;34m]\u001b[0m\u001b[0;34m)\u001b[0m\u001b[0;34m\u001b[0m\u001b[0;34m\u001b[0m\u001b[0m\n\u001b[0m\u001b[1;32m     15\u001b[0m \u001b[0mplt\u001b[0m\u001b[0;34m.\u001b[0m\u001b[0mshow\u001b[0m\u001b[0;34m(\u001b[0m\u001b[0;34m)\u001b[0m\u001b[0;34m\u001b[0m\u001b[0;34m\u001b[0m\u001b[0m\n",
            "\u001b[0;31mTypeError\u001b[0m: 'LinearRegression' object is not callable"
          ]
        },
        {
          "output_type": "display_data",
          "data": {
            "image/png": "[encoded data removed]",
            "text/plain": [
              "<Figure size 1152x576 with 1 Axes>"
            ]
          },
          "metadata": {
            "tags": [],
            "needs_background": "light"
          }
        }
      ]
    },
    {
      "cell_type": "code",
      "metadata": {
        "id": "lXn1h0m6hqw3"
      },
      "source": [
        ""
      ],
      "execution_count": null,
      "outputs": []
    },
    {
      "cell_type": "code",
      "metadata": {
        "id": "S-5dwHzlgKMn"
      },
      "source": [
        ""
      ],
      "execution_count": null,
      "outputs": []
    },
    {
      "cell_type": "code",
      "metadata": {
        "id": "wFW1gjsHy5lH"
      },
      "source": [
        ""
      ],
      "execution_count": 113,
      "outputs": []
    }
  ]
}