{
  "nbformat": 4,
  "nbformat_minor": 0,
  "metadata": {
    "colab": {
      "name": "Untitled10.ipynb",
      "provenance": [],
      "authorship_tag": "ABX9TyNd1t96mX5XN1kzS9UbTghl",
      "include_colab_link": true
    },
    "kernelspec": {
      "name": "python3",
      "display_name": "Python 3"
    }
  },
  "cells": [
    {
      "cell_type": "markdown",
      "metadata": {
        "id": "view-in-github",
        "colab_type": "text"
      },
      "source": [
        "<a href=\"https://colab.research.google.com/github/22zunaid/Data-science/blob/master/linearRegression.ipynb\" target=\"_parent\"><img src=\"https://colab.research.google.com/assets/colab-badge.svg\" alt=\"Open In Colab\"/></a>"
      ]
    },
    {
      "cell_type": "code",
      "metadata": {
        "id": "sZ37sRx4qyeX"
      },
      "source": [
        "import numpy as np\r\n",
        "import pandas as pd\r\n",
        "import matplotlib.pyplot as plt"
      ],
      "execution_count": 4,
      "outputs": []
    },
    {
      "cell_type": "code",
      "metadata": {
        "id": "cB6Bk95BrJ3N"
      },
      "source": [
        "#create a dataset\r\n",
        "# documentation link: https://scikit-learn.org/stable/modules/generated/sklearn.datasets.make_regression.html\r\n",
        "\r\n",
        "\r\n",
        "from sklearn.datasets import make_regression\r\n",
        "\r\n",
        "def generate_regression_data(n_samples=1000, n_features=1, n_targets=1):\r\n",
        "  X, y = make_regression(n_samples=n_samples, n_features=n_features, n_targets=n_targets, random_state=0 ,bias=0.1)\r\n",
        "  df = pd.DataFrame(X, columns=[\"X\"])\r\n",
        "  df[\"y\"] = y\r\n",
        "  return df\r\n"
      ],
      "execution_count": 34,
      "outputs": []
    },
    {
      "cell_type": "code",
      "metadata": {
        "id": "ctxPtIKuvNG8",
        "colab": {
          "base_uri": "https://localhost:8080/"
        },
        "outputId": "a1dd9bf7-7463-4e16-c573-b6502b9c2ece"
      },
      "source": [
        "df = generate_regression_data()\r\n",
        "\r\n",
        "\r\n",
        "print(df.head())\r\n"
      ],
      "execution_count": 35,
      "outputs": [
        {
          "output_type": "stream",
          "text": [
            "          X           y\n",
            "0  0.296733   24.488615\n",
            "1 -1.843070 -151.382607\n",
            "2  0.930408   76.570638\n",
            "3  0.289121   23.862927\n",
            "4  0.354758   29.257673\n"
          ],
          "name": "stdout"
        }
      ]
    },
    {
      "cell_type": "code",
      "metadata": {
        "colab": {
          "base_uri": "https://localhost:8080/"
        },
        "id": "lqaTsdqXsiSy",
        "outputId": "3c51a63c-db52-4f93-cee5-3e59f87342f7"
      },
      "source": [
        "print(f\"Data has {df.shape[0]} samples(rows) and {df.shape[1]} features(columns)\")\r\n",
        "\r\n"
      ],
      "execution_count": 36,
      "outputs": [
        {
          "output_type": "stream",
          "text": [
            "Data has 1000 samples(rows) and 2 features(columns)\n"
          ],
          "name": "stdout"
        }
      ]
    },
    {
      "cell_type": "code",
      "metadata": {
        "colab": {
          "base_uri": "https://localhost:8080/",
          "height": 281
        },
        "id": "1d5fIO52uI0Y",
        "outputId": "c03afd1c-5aa1-40eb-c67b-46bf1e8ad42d"
      },
      "source": [
        "plt.plot(df[\"X\"],df[\"y\"])\r\n",
        "plt.title(\"Linear regression\")\r\n",
        "plt.show()"
      ],
      "execution_count": 37,
      "outputs": [
        {
          "output_type": "display_data",
          "data": {
            "image/png": "[encoded data removed]",
            "text/plain": [
              "<Figure size 432x288 with 1 Axes>"
            ]
          },
          "metadata": {
            "tags": [],
            "needs_background": "light"
          }
        }
      ]
    },
    {
      "cell_type": "code",
      "metadata": {
        "id": "yji1GXrKvs_Z"
      },
      "source": [
        "# split the data into Training and Testing set\r\n",
        "from sklearn.model_selection import train_test_split\r\n",
        "\r\n",
        "X_train, X_test, y_train, y_test = train_test_split(df[[\"X\"]],df[\"y\"], random_state=42, test_size=0.2)\r\n",
        "\r\n"
      ],
      "execution_count": 42,
      "outputs": []
    },
    {
      "cell_type": "code",
      "metadata": {
        "colab": {
          "base_uri": "https://localhost:8080/"
        },
        "id": "lHa2Ny5iwzOF",
        "outputId": "18529632-1e3a-493d-f50e-59eee98cf8a2"
      },
      "source": [
        "from sklearn.linear_model import LinearRegression\r\n",
        "lr=LinearRegression()\r\n",
        "\r\n",
        "#Train the model\r\n",
        "lr.fit(X_train,y_train)\r\n",
        "\r\n",
        "LinearRegression(copy_X=True,fit_intercept=True,n_jobs=None, normalize=False)"
      ],
      "execution_count": 48,
      "outputs": [
        {
          "output_type": "execute_result",
          "data": {
            "text/plain": [
              "LinearRegression(copy_X=True, fit_intercept=True, n_jobs=None, normalize=False)"
            ]
          },
          "metadata": {
            "tags": []
          },
          "execution_count": 48
        }
      ]
    },
    {
      "cell_type": "code",
      "metadata": {
        "colab": {
          "base_uri": "https://localhost:8080/"
        },
        "id": "JoKP4GB2yMBw",
        "outputId": "7003d8ee-9bf2-4047-9f17-4666e9b57c3d"
      },
      "source": [
        "# coef_ -> weights (w)\r\n",
        "# intercept -> bias (b)\r\n",
        "\r\n",
        "print(lr.coef_,lr.intercept_)\r\n"
      ],
      "execution_count": 49,
      "outputs": [
        {
          "output_type": "stream",
          "text": [
            "[82.19039084] 0.09999999999999831\n"
          ],
          "name": "stdout"
        }
      ]
    },
    {
      "cell_type": "code",
      "metadata": {
        "colab": {
          "base_uri": "https://localhost:8080/"
        },
        "id": "4QWx_SfXyk7m",
        "outputId": "72ecc5f6-9149-4c14-c062-742d91804902"
      },
      "source": [
        "# R-squared\r\n",
        "print(lr.score(X_train,y_train))"
      ],
      "execution_count": 50,
      "outputs": [
        {
          "output_type": "stream",
          "text": [
            "1.0\n"
          ],
          "name": "stdout"
        }
      ]
    },
    {
      "cell_type": "code",
      "metadata": {
        "id": "tgXRAq0ry6hh"
      },
      "source": [
        "#Prediction\r\n",
        "y_pred=lr.predict(X_test)"
      ],
      "execution_count": 51,
      "outputs": []
    },
    {
      "cell_type": "code",
      "metadata": {
        "colab": {
          "base_uri": "https://localhost:8080/"
        },
        "id": "hNGNPoqpzN7y",
        "outputId": "ccc25547-1cc7-4d31-b608-47e5c9c004ac"
      },
      "source": [
        "from sklearn.metrics import mean_squared_error\r\n",
        "print(\"MSE for training data: \", mean_squared_error(y_test, y_pred))"
      ],
      "execution_count": 54,
      "outputs": [
        {
          "output_type": "stream",
          "text": [
            "MSE for training data:  8.296309624360639e-28\n"
          ],
          "name": "stdout"
        }
      ]
    }
  ]
}