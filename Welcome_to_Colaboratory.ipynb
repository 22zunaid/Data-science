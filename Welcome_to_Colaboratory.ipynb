{
  "nbformat": 4,
  "nbformat_minor": 0,
  "metadata": {
    "colab": {
      "name": "Welcome to Colaboratory",
      "provenance": [],
      "collapsed_sections": [],
      "include_colab_link": true
    },
    "kernelspec": {
      "display_name": "Python 3",
      "name": "python3"
    }
  },
  "cells": [
    {
      "cell_type": "markdown",
      "metadata": {
        "id": "view-in-github",
        "colab_type": "text"
      },
      "source": [
        "<a href=\"https://colab.research.google.com/github/22zunaid/Data-science/blob/master/Welcome_to_Colaboratory.ipynb\" target=\"_parent\"><img src=\"https://colab.research.google.com/assets/colab-badge.svg\" alt=\"Open In Colab\"/></a>"
      ]
    },
    {
      "cell_type": "code",
      "metadata": {
        "id": "uMO5qO5YdmNJ"
      },
      "source": [
        "first_list = []\n",
        "second_list = []\n",
        "\n",
        "\n",
        "count_first_list = int(input(\"Enter total numbers of the first list : \"))\n",
        "\n",
        "for i in range(1,count_first_list+1):\n",
        "\tno = int(input())\n",
        "\tfirst_list.append(no)\n",
        "\n",
        "\n",
        "count_second_list = int(input(\"Enter total numbers of the second list : \"))\n",
        "\n",
        "\n",
        "for i in range(1,count_second_list+1):\n",
        "\tno = int(input())\n",
        "\tsecond_list.append(no)\n",
        "\n",
        "\n",
        "print(\"First list : \",first_list)\n",
        "print(\"Second list : \",second_list)\n",
        "\n",
        "\n",
        "final_list = list(set(first_list + second_list))\n",
        "\n",
        "\n",
        "print(\"Union: \",final_list)"
      ],
      "execution_count": null,
      "outputs": []
    }
  ]
}