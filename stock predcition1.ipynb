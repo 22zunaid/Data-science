{
  "nbformat": 4,
  "nbformat_minor": 0,
  "metadata": {
    "colab": {
      "name": "Untitled26.ipynb",
      "provenance": [],
      "authorship_tag": "ABX9TyOhoocV3mpTnGmUhQCYS03j",
      "include_colab_link": true
    },
    "kernelspec": {
      "name": "python3",
      "display_name": "Python 3"
    }
  },
  "cells": [
    {
      "cell_type": "markdown",
      "metadata": {
        "id": "view-in-github",
        "colab_type": "text"
      },
      "source": [
        "<a href=\"https://colab.research.google.com/github/22zunaid/Data-science/blob/master/stock%20predcition1.ipynb\" target=\"_parent\"><img src=\"https://colab.research.google.com/assets/colab-badge.svg\" alt=\"Open In Colab\"/></a>"
      ]
    },
    {
      "cell_type": "code",
      "metadata": {
        "id": "oW84LK280AC_"
      },
      "source": [
        "import pandas as pd\r\n",
        "import numpy as np\r\n",
        "\r\n",
        "import matplotlib.pyplot as plt\r\n",
        "%matplotlib inline\r\n",
        "\r\n",
        "from matplotlib.pylab import rcParams\r\n",
        "rcParams['figure.figsize']=20,10\r\n",
        "\r\n",
        "from sklearn.preprocessing import MinMaxScaler\r\n",
        "scaler=MinMaxScaler(feature_range=(0,1))\r\n"
      ],
      "execution_count": 42,
      "outputs": []
    },
    {
      "cell_type": "code",
      "metadata": {
        "colab": {
          "base_uri": "https://localhost:8080/",
          "height": 195
        },
        "id": "pr-DpnzY0ERB",
        "outputId": "d224414a-077c-4056-f318-3531a89d3b7b"
      },
      "source": [
        "df=pd.read_csv(\"TTM.csv\")\r\n",
        "df.head()"
      ],
      "execution_count": 43,
      "outputs": [
        {
          "output_type": "execute_result",
          "data": {
            "text/html": [
              "<div>\n",
              "<style scoped>\n",
              "    .dataframe tbody tr th:only-of-type {\n",
              "        vertical-align: middle;\n",
              "    }\n",
              "\n",
              "    .dataframe tbody tr th {\n",
              "        vertical-align: top;\n",
              "    }\n",
              "\n",
              "    .dataframe thead th {\n",
              "        text-align: right;\n",
              "    }\n",
              "</style>\n",
              "<table border=\"1\" class=\"dataframe\">\n",
              "  <thead>\n",
              "    <tr style=\"text-align: right;\">\n",
              "      <th></th>\n",
              "      <th>Date</th>\n",
              "      <th>Open</th>\n",
              "      <th>High</th>\n",
              "      <th>Low</th>\n",
              "      <th>Close</th>\n",
              "      <th>Adj Close</th>\n",
              "      <th>Volume</th>\n",
              "    </tr>\n",
              "  </thead>\n",
              "  <tbody>\n",
              "    <tr>\n",
              "      <th>0</th>\n",
              "      <td>2020-02-03</td>\n",
              "      <td>11.54</td>\n",
              "      <td>11.69</td>\n",
              "      <td>11.40</td>\n",
              "      <td>11.68</td>\n",
              "      <td>11.68</td>\n",
              "      <td>2503100</td>\n",
              "    </tr>\n",
              "    <tr>\n",
              "      <th>1</th>\n",
              "      <td>2020-02-04</td>\n",
              "      <td>11.78</td>\n",
              "      <td>11.88</td>\n",
              "      <td>11.69</td>\n",
              "      <td>11.73</td>\n",
              "      <td>11.73</td>\n",
              "      <td>1757500</td>\n",
              "    </tr>\n",
              "    <tr>\n",
              "      <th>2</th>\n",
              "      <td>2020-02-05</td>\n",
              "      <td>12.82</td>\n",
              "      <td>12.90</td>\n",
              "      <td>12.60</td>\n",
              "      <td>12.64</td>\n",
              "      <td>12.64</td>\n",
              "      <td>2380700</td>\n",
              "    </tr>\n",
              "    <tr>\n",
              "      <th>3</th>\n",
              "      <td>2020-02-06</td>\n",
              "      <td>12.73</td>\n",
              "      <td>12.73</td>\n",
              "      <td>12.32</td>\n",
              "      <td>12.36</td>\n",
              "      <td>12.36</td>\n",
              "      <td>2399900</td>\n",
              "    </tr>\n",
              "    <tr>\n",
              "      <th>4</th>\n",
              "      <td>2020-02-07</td>\n",
              "      <td>12.08</td>\n",
              "      <td>12.08</td>\n",
              "      <td>11.85</td>\n",
              "      <td>11.91</td>\n",
              "      <td>11.91</td>\n",
              "      <td>1851000</td>\n",
              "    </tr>\n",
              "  </tbody>\n",
              "</table>\n",
              "</div>"
            ],
            "text/plain": [
              "         Date   Open   High    Low  Close  Adj Close   Volume\n",
              "0  2020-02-03  11.54  11.69  11.40  11.68      11.68  2503100\n",
              "1  2020-02-04  11.78  11.88  11.69  11.73      11.73  1757500\n",
              "2  2020-02-05  12.82  12.90  12.60  12.64      12.64  2380700\n",
              "3  2020-02-06  12.73  12.73  12.32  12.36      12.36  2399900\n",
              "4  2020-02-07  12.08  12.08  11.85  11.91      11.91  1851000"
            ]
          },
          "metadata": {
            "tags": []
          },
          "execution_count": 43
        }
      ]
    },
    {
      "cell_type": "code",
      "metadata": {
        "id": "fqMek9130FY8"
      },
      "source": [
        "df[\"Date\"]=pd.to_datetime(df.Date,format=\"%Y-%m-%d\")\r\n",
        "df.index=df['Date']"
      ],
      "execution_count": 44,
      "outputs": []
    },
    {
      "cell_type": "code",
      "metadata": {
        "colab": {
          "base_uri": "https://localhost:8080/",
          "height": 355
        },
        "id": "8lm8mFn30Wbc",
        "outputId": "3d7e3350-4709-439d-f96b-9aa8f7bed033"
      },
      "source": [
        "plt.figure(figsize=(16,8))\r\n",
        "plt.plot(df[\"Close\"],label='Close Price history')"
      ],
      "execution_count": 45,
      "outputs": [
        {
          "output_type": "execute_result",
          "data": {
            "text/plain": [
              "[<matplotlib.lines.Line2D at 0x7fc239ca8d68>]"
            ]
          },
          "metadata": {
            "tags": []
          },
          "execution_count": 45
        },
        {
          "output_type": "display_data",
          "data": {
            "image/png": "[encoded data removed]",
            "text/plain": [
              "<Figure size 1152x576 with 1 Axes>"
            ]
          },
          "metadata": {
            "tags": [],
            "needs_background": "light"
          }
        }
      ]
    },
    {
      "cell_type": "code",
      "metadata": {
        "id": "ffmwBKu80bFY"
      },
      "source": [
        "from keras.models import Sequential\r\n",
        "from keras.layers import LSTM,Dropout,Dense"
      ],
      "execution_count": 46,
      "outputs": []
    },
    {
      "cell_type": "code",
      "metadata": {
        "id": "Rct2W72U14tB"
      },
      "source": [
        "data=df.sort_index(ascending=True,axis=0)\r\n",
        "new_dataset=pd.DataFrame(index=range(0,len(df)),columns=['Date','Close'])"
      ],
      "execution_count": 47,
      "outputs": []
    },
    {
      "cell_type": "code",
      "metadata": {
        "id": "fM4Jqyd917_D"
      },
      "source": [
        "for i in range(0,len(data)):\r\n",
        "    new_dataset[\"Date\"][i]=data['Date'][i]\r\n",
        "    new_dataset[\"Close\"][i]=data[\"Close\"][i]"
      ],
      "execution_count": 48,
      "outputs": []
    },
    {
      "cell_type": "code",
      "metadata": {
        "id": "_sfIazbQ1__3"
      },
      "source": [
        "new_dataset.index=new_dataset.Date\r\n",
        "new_dataset.drop(\"Date\",axis=1,inplace=True)"
      ],
      "execution_count": 49,
      "outputs": []
    },
    {
      "cell_type": "code",
      "metadata": {
        "id": "dmorg9qX2DoD"
      },
      "source": [
        "final_dataset=new_dataset.values"
      ],
      "execution_count": 50,
      "outputs": []
    },
    {
      "cell_type": "code",
      "metadata": {
        "id": "zkhNiCLs2DrZ"
      },
      "source": [
        "train_data=final_dataset[0:987,:]\r\n",
        "valid_data=final_dataset[987:,:]"
      ],
      "execution_count": 51,
      "outputs": []
    },
    {
      "cell_type": "code",
      "metadata": {
        "id": "tAwGihLw2Dum"
      },
      "source": [
        "scaler=MinMaxScaler(feature_range=(0,1))\r\n",
        "scaled_data=scaler.fit_transform(final_dataset)"
      ],
      "execution_count": 52,
      "outputs": []
    },
    {
      "cell_type": "code",
      "metadata": {
        "id": "5TVGajS72K9z"
      },
      "source": [
        "x_train_data,y_train_data=[],[]"
      ],
      "execution_count": 53,
      "outputs": []
    },
    {
      "cell_type": "code",
      "metadata": {
        "id": "842gRQXN2NTo"
      },
      "source": [
        "for i in range(60,len(train_data)):\r\n",
        "    x_train_data.append(scaled_data[i-60:i,0])\r\n",
        "    y_train_data.append(scaled_data[i,0])\r\n",
        "    "
      ],
      "execution_count": 54,
      "outputs": []
    },
    {
      "cell_type": "code",
      "metadata": {
        "id": "6FpGdYLS2QAI"
      },
      "source": [
        "x_train_data,y_train_data=np.array(x_train_data),np.array(y_train_data)\r\n"
      ],
      "execution_count": 55,
      "outputs": []
    },
    {
      "cell_type": "code",
      "metadata": {
        "id": "M_YC8iiU2S2O"
      },
      "source": [
        "x_train_data=np.reshape(x_train_data,(x_train_data.shape[0],x_train_data.shape[1],1))"
      ],
      "execution_count": 56,
      "outputs": []
    },
    {
      "cell_type": "code",
      "metadata": {
        "id": "2pu4cNUt2U-Z",
        "colab": {
          "base_uri": "https://localhost:8080/"
        },
        "outputId": "7c55bf46-ebe5-4175-b4dd-4fe34b8cf99d"
      },
      "source": [
        "lstm_model=Sequential()\r\n",
        "lstm_model.add(LSTM(units=50,return_sequences=True,input_shape=(x_train_data.shape[1],1)))\r\n",
        "lstm_model.add(LSTM(units=50))\r\n",
        "lstm_model.add(Dense(1))\r\n",
        "\r\n",
        "lstm_model.compile(loss='mean_squared_error',optimizer='adam')\r\n",
        "lstm_model.fit(x_train_data,y_train_data,epochs=1,batch_size=1,verbose=2)\r\n",
        "\r\n",
        "inputs_data=new_dataset[len(new_dataset)-len(valid_data)-60:].values\r\n",
        "inputs_data=inputs_data.reshape(-1,1)\r\n",
        "inputs_data=scaler.transform(inputs_data)"
      ],
      "execution_count": 57,
      "outputs": [
        {
          "output_type": "stream",
          "text": [
            "194/194 - 6s - loss: 0.0078\n"
          ],
          "name": "stdout"
        }
      ]
    },
    {
      "cell_type": "code",
      "metadata": {
        "colab": {
          "base_uri": "https://localhost:8080/",
          "height": 229
        },
        "id": "hQGZvlRR1ab0",
        "outputId": "8fb636ad-0345-48cb-c7e7-027f9712fd00"
      },
      "source": [
        "X_test=[]\r\n",
        "for i in range(60,inputs_data.shape[0]):\r\n",
        "    X_test.append(inputs_data[i-60:i,0])\r\n",
        "X_test=np.array(X_test)\r\n",
        "\r\n",
        "X_test=np.reshape(X_test,(X_test.shape[0],X_test.shape[1],1))\r\n",
        "predicted_closing_price=lstm_model.predict(X_test)\r\n",
        "predicted_closing_price=scaler.inverse_transform(predicted_closing_price)"
      ],
      "execution_count": 58,
      "outputs": [
        {
          "output_type": "error",
          "ename": "IndexError",
          "evalue": "ignored",
          "traceback": [
            "\u001b[0;31m---------------------------------------------------------------------------\u001b[0m",
            "\u001b[0;31mIndexError\u001b[0m                                Traceback (most recent call last)",
            "\u001b[0;32m<ipython-input-58-870e663d217d>\u001b[0m in \u001b[0;36m<module>\u001b[0;34m()\u001b[0m\n\u001b[1;32m      4\u001b[0m \u001b[0mX_test\u001b[0m\u001b[0;34m=\u001b[0m\u001b[0mnp\u001b[0m\u001b[0;34m.\u001b[0m\u001b[0marray\u001b[0m\u001b[0;34m(\u001b[0m\u001b[0mX_test\u001b[0m\u001b[0;34m)\u001b[0m\u001b[0;34m\u001b[0m\u001b[0;34m\u001b[0m\u001b[0m\n\u001b[1;32m      5\u001b[0m \u001b[0;34m\u001b[0m\u001b[0m\n\u001b[0;32m----> 6\u001b[0;31m \u001b[0mX_test\u001b[0m\u001b[0;34m=\u001b[0m\u001b[0mnp\u001b[0m\u001b[0;34m.\u001b[0m\u001b[0mreshape\u001b[0m\u001b[0;34m(\u001b[0m\u001b[0mX_test\u001b[0m\u001b[0;34m,\u001b[0m\u001b[0;34m(\u001b[0m\u001b[0mX_test\u001b[0m\u001b[0;34m.\u001b[0m\u001b[0mshape\u001b[0m\u001b[0;34m[\u001b[0m\u001b[0;36m0\u001b[0m\u001b[0;34m]\u001b[0m\u001b[0;34m,\u001b[0m\u001b[0mX_test\u001b[0m\u001b[0;34m.\u001b[0m\u001b[0mshape\u001b[0m\u001b[0;34m[\u001b[0m\u001b[0;36m1\u001b[0m\u001b[0;34m]\u001b[0m\u001b[0;34m,\u001b[0m\u001b[0;36m1\u001b[0m\u001b[0;34m)\u001b[0m\u001b[0;34m)\u001b[0m\u001b[0;34m\u001b[0m\u001b[0;34m\u001b[0m\u001b[0m\n\u001b[0m\u001b[1;32m      7\u001b[0m \u001b[0mpredicted_closing_price\u001b[0m\u001b[0;34m=\u001b[0m\u001b[0mlstm_model\u001b[0m\u001b[0;34m.\u001b[0m\u001b[0mpredict\u001b[0m\u001b[0;34m(\u001b[0m\u001b[0mX_test\u001b[0m\u001b[0;34m)\u001b[0m\u001b[0;34m\u001b[0m\u001b[0;34m\u001b[0m\u001b[0m\n\u001b[1;32m      8\u001b[0m \u001b[0mpredicted_closing_price\u001b[0m\u001b[0;34m=\u001b[0m\u001b[0mscaler\u001b[0m\u001b[0;34m.\u001b[0m\u001b[0minverse_transform\u001b[0m\u001b[0;34m(\u001b[0m\u001b[0mpredicted_closing_price\u001b[0m\u001b[0;34m)\u001b[0m\u001b[0;34m\u001b[0m\u001b[0;34m\u001b[0m\u001b[0m\n",
            "\u001b[0;31mIndexError\u001b[0m: tuple index out of range"
          ]
        }
      ]
    },
    {
      "cell_type": "code",
      "metadata": {
        "id": "5ZUGoXb03gFe"
      },
      "source": [
        "lstm_model.save(\"saved_lstm_model.h5\")"
      ],
      "execution_count": null,
      "outputs": []
    },
    {
      "cell_type": "code",
      "metadata": {
        "id": "tytdBVur3rK2"
      },
      "source": [
        "train_data=new_dataset[:987]\r\n",
        "valid_data=new_dataset[987:]\r\n",
        "valid_data['Predictions']=prediction_closing_price\r\n",
        "plt.plot(train_data[\"Close\"])\r\n",
        "plt.plot(valid_data[['Close',\"Predictions\"]])"
      ],
      "execution_count": null,
      "outputs": []
    }
  ]
}